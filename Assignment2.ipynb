{
 "cells": [
  {
   "cell_type": "code",
   "execution_count": 21,
   "metadata": {},
   "outputs": [
    {
     "data": {
      "text/plain": [
       "10"
      ]
     },
     "execution_count": 21,
     "metadata": {},
     "output_type": "execute_result"
    }
   ],
   "source": [
    "#Write a Python Program to implement your own myreduce() function which works exactly like\n",
    "#Python's built-in function reduce()\n",
    "\n",
    "def myreduce(func,col,acc=None):\n",
    "    d=iter(col)\n",
    "    if acc is None:\n",
    "        value=next(d)\n",
    "    else:\n",
    "        value=acc\n",
    "    for i in d:\n",
    "        value=func(i,value)\n",
    "    return value\n",
    "\n",
    "l=[1,2,3,4]\n",
    "myreduce(lambda x,y:x+y,l)"
   ]
  },
  {
   "cell_type": "code",
   "execution_count": 608,
   "metadata": {},
   "outputs": [
    {
     "data": {
      "text/plain": [
       "[0, 4, 6]"
      ]
     },
     "execution_count": 608,
     "metadata": {},
     "output_type": "execute_result"
    }
   ],
   "source": [
    "#Write a Python program to implement your own myfilter() function which works exactly like\n",
    "#Python's built-in function filter()\n",
    "\n",
    "def myfilter(func,c):\n",
    "    d=[]\n",
    "    for i in c:\n",
    "        if(func((i))==True):\n",
    "            d.append(i)\n",
    "    return d        \n",
    "\n",
    "        \n",
    "c=[1,0,4,5,6]            \n",
    "myfilter(lambda x:x%2==0,c)    \n",
    "\n"
   ]
  },
  {
   "cell_type": "code",
   "execution_count": 148,
   "metadata": {},
   "outputs": [
    {
     "data": {
      "text/plain": [
       "['A', 'C', 'A', 'D', 'G', 'I', 'L', 'D']"
      ]
     },
     "execution_count": 148,
     "metadata": {},
     "output_type": "execute_result"
    }
   ],
   "source": [
    "#Implement List comprehensions to produce the following lists.\n",
    "#Write List comprehensions to produce the following Lists\n",
    "\n",
    "#['A', 'C', 'A', 'D', 'G', 'I', ’L’, ‘ D’]\n",
    "[x for x in \"ACADGILD\"]"
   ]
  },
  {
   "cell_type": "code",
   "execution_count": 149,
   "metadata": {},
   "outputs": [
    {
     "data": {
      "text/plain": [
       "['x', 'xx', 'xxx', 'xxxx', 'y', 'yy', 'yyy', 'yyyy', 'z', 'zz', 'zzz', 'zzzz']"
      ]
     },
     "execution_count": 149,
     "metadata": {},
     "output_type": "execute_result"
    }
   ],
   "source": [
    "#['x', 'xx', 'xxx', 'xxxx', 'y', 'yy', 'yyy', 'yyyy', 'z', 'zz', 'zzz', 'zzzz']\n",
    "[x*i for x in [\"x\",\"y\",\"z\"] for i in range(1,5)]"
   ]
  },
  {
   "cell_type": "code",
   "execution_count": 150,
   "metadata": {},
   "outputs": [
    {
     "data": {
      "text/plain": [
       "['x', 'y', 'z', 'xx', 'yy', 'zz', 'xxx', 'yyy', 'zzz', 'xxxx', 'yyyy', 'zzzz']"
      ]
     },
     "execution_count": 150,
     "metadata": {},
     "output_type": "execute_result"
    }
   ],
   "source": [
    "#['x', 'y', 'z', 'xx', 'yy', 'zz', 'xx', 'yy', 'zz', 'xxxx', 'yyyy', 'zzzz']\n",
    "[x*i for i in range(1,5) for x in [\"x\",\"y\",\"z\"]]"
   ]
  },
  {
   "cell_type": "code",
   "execution_count": 325,
   "metadata": {},
   "outputs": [
    {
     "data": {
      "text/plain": [
       "[[2], [3], [4], [3], [4], [5], [4], [5], [6], [5], [6], [7], [6], [7], [8]]"
      ]
     },
     "execution_count": 325,
     "metadata": {},
     "output_type": "execute_result"
    }
   ],
   "source": [
    "##[[2], [3], [4], [3], [4], [5], [4], [5], [6]]\n",
    "[[x+y] for x"
   ]
  },
  {
   "cell_type": "code",
   "execution_count": 1,
   "metadata": {},
   "outputs": [
    {
     "data": {
      "text/plain": [
       "[[2], [3], [4], [3], [4], [5], [4], [5], [6]]"
      ]
     },
     "execution_count": 1,
     "metadata": {},
     "output_type": "execute_result"
    }
   ],
   "source": [
    "#[[2], [3], [4], [3], [4], [5], [4], [5], [6]]\n",
    "[[x+y] for x in range(2,5) for y in range(3)]"
   ]
  },
  {
   "cell_type": "code",
   "execution_count": 9,
   "metadata": {},
   "outputs": [
    {
     "data": {
      "text/plain": [
       "[[2, 3, 4, 5], [3, 4, 5, 6], [4, 5, 6, 7], [5, 6, 7, 8]]"
      ]
     },
     "execution_count": 9,
     "metadata": {},
     "output_type": "execute_result"
    }
   ],
   "source": [
    "#[[2, 3, 4, 5], [3, 4, 5, 6], [4, 5, 6, 7], [5, 6, 7, 8]]\n",
    "l=[2,3,4,5,6,7,8]\n",
    "[[l[i],l[i+1],l[i+2],l[i+3]] for i in range(len(l)) if i<len(l)-3]          "
   ]
  },
  {
   "cell_type": "code",
   "execution_count": 585,
   "metadata": {},
   "outputs": [
    {
     "name": "stdout",
     "output_type": "stream",
     "text": [
      "aaaafddddddaaaaaaaaaaaaaaaaaaaddddd\n"
     ]
    }
   ],
   "source": [
    "#Implement a function longestWord() that takes a list of words and returns the longest one.\n",
    "\n",
    "def LongestWord(list1):\n",
    "    s=[]\n",
    "    ss=[]\n",
    "    for j in list1:\n",
    "        s.append((len(j),j))\n",
    "    for i in s:\n",
    "        ss.append(i[0])\n",
    "        long=max(ss)\n",
    "    for i in list1:\n",
    "        if(len(i)==long):\n",
    "            print(i)\n",
    "    #\n",
    "    \n",
    "LongestWord([\"list1\",\"sdsdsdfdf\",\"aaaafddddddaaaaaaaaaaaaaaaaaaaddddd\",\"sff rsf\",\"d                   f\"])"
   ]
  },
  {
   "cell_type": "code",
   "execution_count": 592,
   "metadata": {},
   "outputs": [
    {
     "data": {
      "text/plain": [
       "8971.427126578023"
      ]
     },
     "execution_count": 592,
     "metadata": {},
     "output_type": "execute_result"
    }
   ],
   "source": [
    "#Write a Python Program(with class concepts) to find the area of the triangle using the below\n",
    "#area = (s*(s-a)*(s-b)*(s-c)) ** 0.5\n",
    "\n",
    "#Function to take the length of the sides of triangle from user should be defined in the parent\n",
    "#class and function to calculate the area should be defined in subclass.\n",
    "#a= (s*(s-a)*(s-b)*(s-c)) ** 0.5\n",
    "\n",
    "class peri_cal:\n",
    "    def __init__(self,a,b,c):\n",
    "        self.a=a\n",
    "        self.b=b\n",
    "        self.c=c\n",
    "    def semi_peri(self):\n",
    "        return (self.a)+(self.b)+(self.c)/2\n",
    "    \n",
    "class area_traingle(peri_cal):     \n",
    "    def area(self):\n",
    "        s=super().semi_peri()\n",
    "        return ((s*(s-a)*(s-b)*(s-c)) ** 0.5)\n",
    "    \n",
    "area2=area_trai(34,3,123)    \n",
    "area2.area()\n",
    "    \n",
    "    "
   ]
  },
  {
   "cell_type": "code",
   "execution_count": 595,
   "metadata": {},
   "outputs": [
    {
     "data": {
      "text/plain": [
       "['sdsdddddddddddc ']"
      ]
     },
     "execution_count": 595,
     "metadata": {},
     "output_type": "execute_result"
    }
   ],
   "source": [
    "# Write a function filter_long_words() that takes a list of words and an integer n and \n",
    "# returns the list of words that are longer than n.\n",
    "\n",
    "def filter_long_words(words_list,n):\n",
    "    result=[]\n",
    "    for i in words_list:\n",
    "        if(len(i)>n):\n",
    "            result.append(i)\n",
    "            \n",
    "    return result\n",
    "filter_long_words([\"asss\",\"slksls\",\"sdsdddddddddddc \"],9)\n"
   ]
  },
  {
   "cell_type": "code",
   "execution_count": 3,
   "metadata": {},
   "outputs": [
    {
     "data": {
      "text/plain": [
       "[5, 8]"
      ]
     },
     "execution_count": 3,
     "metadata": {},
     "output_type": "execute_result"
    }
   ],
   "source": [
    "# Write a Python program using function concept that maps list of words into a \n",
    "# list of integers representing the lengths of the corresponding words.\n",
    "\n",
    "def str_cnv_len(list_words):\n",
    "    m=[]\n",
    "    for i in list_words:\n",
    "        m.append(len(i))\n",
    "    return m    \n",
    "str_cnv_len([\"lijit\",\"mahi\",\"himesh\"])\n",
    "\n",
    "str_cnv_len((\"dsds\",\"sfsws\",\"sdsddew\"))\n",
    "#Using List Comprehension\n",
    "[len(i) for i in [\"sdsdd\",\"sffddsss\"]]"
   ]
  },
  {
   "cell_type": "code",
   "execution_count": 607,
   "metadata": {},
   "outputs": [
    {
     "data": {
      "text/plain": [
       "True"
      ]
     },
     "execution_count": 607,
     "metadata": {},
     "output_type": "execute_result"
    }
   ],
   "source": [
    "# Write a Python function which takes a character (i.e. a string of length 1) and returns True\n",
    "#if it is a vowel, False otherwise.\n",
    "\n",
    "def Is_Vowel(character):\n",
    "    vowels=[\"a\",\"e\",\"i\",\"o\",\"u\"]\n",
    "    if(character.lower() in vowels):\n",
    "        return True\n",
    "    else:\n",
    "        return False\n",
    "Is_Vowel(\"E\")    \n"
   ]
  },
  {
   "cell_type": "code",
   "execution_count": null,
   "metadata": {},
   "outputs": [],
   "source": []
  }
 ],
 "metadata": {
  "kernelspec": {
   "display_name": "Python 3",
   "language": "python",
   "name": "python3"
  },
  "language_info": {
   "codemirror_mode": {
    "name": "ipython",
    "version": 3
   },
   "file_extension": ".py",
   "mimetype": "text/x-python",
   "name": "python",
   "nbconvert_exporter": "python",
   "pygments_lexer": "ipython3",
   "version": "3.7.4"
  }
 },
 "nbformat": 4,
 "nbformat_minor": 2
}
